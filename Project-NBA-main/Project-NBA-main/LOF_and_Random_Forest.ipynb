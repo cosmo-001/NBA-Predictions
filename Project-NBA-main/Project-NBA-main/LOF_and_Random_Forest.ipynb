{
  "nbformat": 4,
  "nbformat_minor": 0,
  "metadata": {
    "colab": {
      "provenance": []
    },
    "kernelspec": {
      "name": "python3",
      "display_name": "Python 3"
    },
    "language_info": {
      "name": "python"
    }
  },
  "cells": [
    {
      "cell_type": "markdown",
      "source": [
        "#Local Outlier Factor - Player Regular Season"
      ],
      "metadata": {
        "id": "vAION7OghVyu"
      }
    },
    {
      "cell_type": "code",
      "source": [
        "import pandas as pd\n",
        "from sklearn.neighbors import LocalOutlierFactor\n",
        "from sklearn.impute import SimpleImputer\n",
        "\n",
        "# Load the player data\n",
        "data_folder_path = \"/content/unzipped_data\"\n",
        "file_path = \"/content/unzipped_data/player_regular_season.txt\"\n",
        "player_data = pd.read_csv(file_path)\n",
        "\n",
        "# Select relevant features for outlier detection\n",
        "features = ['stl', 'blk', 'turnover', 'pf', 'fga', 'fgm', 'fta', 'ftm', 'tpa', 'tpm']\n",
        "\n",
        "# Prepare the data for outlier detection\n",
        "X = player_data[features]\n",
        "names = player_data[['firstname', 'lastname']]  # Select firstname and lastname columns\n",
        "\n",
        "# Impute missing values with the mean of each column\n",
        "imputer = SimpleImputer(strategy='mean')\n",
        "X_imputed = imputer.fit_transform(X)\n",
        "\n",
        "# Create a Local Outlier Factor model\n",
        "lof_model = LocalOutlierFactor(contamination=0.01)\n",
        "\n",
        "# Fit the model to the imputed data and predict outliers\n",
        "outliers = lof_model.fit_predict(X_imputed)\n",
        "\n",
        "# The 'outliers' array contains labels (-1 for outliers, 1 for inliers)\n",
        "\n",
        "outlier_indices = outliers == -1\n",
        "\n",
        "# Extract the names of the potential outlier players based on the indices\n",
        "outlier_players_names = names.loc[outlier_indices]\n",
        "\n",
        "# Remove duplicate names\n",
        "outlier_players_names = outlier_players_names.drop_duplicates()\n",
        "\n",
        "# Print the results\n",
        "print(f\"Count of Potential Outlier Players (LOF): {len(outlier_players_names)}\")\n",
        "print(\"Names of Potential Outlier Players:\")\n",
        "print(outlier_players_names)\n",
        "\n"
      ],
      "metadata": {
        "colab": {
          "base_uri": "https://localhost:8080/"
        },
        "id": "dyYWKxEU4uUz",
        "outputId": "ea707ead-e2fa-40ea-e780-0b9d94208b8c"
      },
      "execution_count": null,
      "outputs": [
        {
          "output_type": "stream",
          "name": "stdout",
          "text": [
            "Count of Potential Outlier Players (LOF): 147\n",
            "Names of Potential Outlier Players:\n",
            "      firstname  lastname\n",
            "2          Norm     Baker\n",
            "50          Joe     Fulks\n",
            "90          Ken    Keller\n",
            "105      Donald    Martin\n",
            "235      Wyndol      Gray\n",
            "...         ...       ...\n",
            "18703      Luis    Flores\n",
            "18705     Danny   Fortson\n",
            "18826   Brandin    Knight\n",
            "18827      Kyle    Korver\n",
            "18889    Alonzo  Mourning\n",
            "\n",
            "[147 rows x 2 columns]\n"
          ]
        }
      ]
    },
    {
      "cell_type": "markdown",
      "source": [
        "# Local Outlier Factor - Player Allstar"
      ],
      "metadata": {
        "id": "3-S-jvOEhfWH"
      }
    },
    {
      "cell_type": "code",
      "source": [
        "import pandas as pd\n",
        "from sklearn.neighbors import LocalOutlierFactor\n",
        "from sklearn.impute import SimpleImputer\n",
        "\n",
        "# Load the player data\n",
        "data_folder_path = \"/content/unzipped_data\"\n",
        "file_path = \"/content/unzipped_data/player_allstar.txt\"\n",
        "player_data = pd.read_csv(file_path)\n",
        "\n",
        "# Select relevant features for outlier detection\n",
        "features = ['stl', 'blk', 'turnover', 'pf', 'fga', 'fgm', 'fta', 'ftm', 'tpa', 'tpm']\n",
        "\n",
        "# Prepare the data for outlier detection\n",
        "X = player_data[features]\n",
        "names = player_data[['firstname', 'lastname']]  # Select firstname and lastname columns\n",
        "\n",
        "# Impute missing values with the mean of each column\n",
        "imputer = SimpleImputer(strategy='mean')\n",
        "X_imputed = imputer.fit_transform(X)\n",
        "\n",
        "# Create a Local Outlier Factor model\n",
        "lof_model = LocalOutlierFactor(contamination=0.01)\n",
        "\n",
        "# Fit the model to the imputed data and predict outliers\n",
        "outliers = lof_model.fit_predict(X_imputed)\n",
        "\n",
        "# The 'outliers' array contains labels (-1 for outliers, 1 for inliers)\n",
        "outlier_indices = outliers == -1\n",
        "\n",
        "# Extract the names of the potential outlier players based on the indices\n",
        "outlier_players_names = names.loc[outlier_indices]\n",
        "# Remove duplicate names\n",
        "outlier_players_names = outlier_players_names.drop_duplicates()\n",
        "# Print the results\n",
        "print(f\"Count of Potential Outlier Players (LOF): {len(outlier_players_names)}\")\n",
        "print(\"Names of Potential Outlier Players:\")\n",
        "print(outlier_players_names)"
      ],
      "metadata": {
        "colab": {
          "base_uri": "https://localhost:8080/"
        },
        "id": "fXC_vdwbIzHS",
        "outputId": "fd46a35f-d097-4d58-b2f0-df41890fefd5"
      },
      "execution_count": null,
      "outputs": [
        {
          "output_type": "stream",
          "name": "stdout",
          "text": [
            "Count of Potential Outlier Players (LOF): 14\n",
            "Names of Potential Outlier Players:\n",
            "     firstname      lastname\n",
            "3       Kareem  Abdul-Jabbar\n",
            "22        Mark       Aguirre\n",
            "45        Paul        Arizin\n",
            "77        Rick         Barry\n",
            "151       Carl         Braun\n",
            "267      Terry      Cummings\n",
            "561      Elvin         Hayes\n",
            "691      Jimmy         Jones\n",
            "746      Jason          Kidd\n",
            "872        Bob        McAdoo\n",
            "881     George      McGinnis\n",
            "904       Bill    Melchionni\n",
            "944     Alonzo      Mourning\n",
            "1220      Bill       Sharman\n"
          ]
        }
      ]
    },
    {
      "cell_type": "markdown",
      "source": [
        "#Local Outlier Factor - Player Playoffs"
      ],
      "metadata": {
        "id": "b99aPfyWhqm6"
      }
    },
    {
      "cell_type": "code",
      "source": [
        "import pandas as pd\n",
        "from sklearn.neighbors import LocalOutlierFactor\n",
        "from sklearn.impute import SimpleImputer\n",
        "\n",
        "# Load the player data\n",
        "data_folder_path = \"/content/unzipped_data\"\n",
        "file_path = \"/content/unzipped_data/player_playoffs_career.txt\"\n",
        "player_data = pd.read_csv(file_path)\n",
        "\n",
        "# Select relevant features for outlier detection\n",
        "features = ['stl', 'blk', 'turnover', 'pf', 'fga', 'fgm', 'fta', 'ftm', 'tpa', 'tpm']\n",
        "\n",
        "# Prepare the data for outlier detection\n",
        "X = player_data[features]\n",
        "names = player_data[['firstname', 'lastname']]  # Select firstname and lastname columns\n",
        "\n",
        "# Impute missing values with the mean of each column\n",
        "imputer = SimpleImputer(strategy='mean')\n",
        "X_imputed = imputer.fit_transform(X)\n",
        "\n",
        "# Create a Local Outlier Factor model\n",
        "lof_model = LocalOutlierFactor(contamination=0.01)\n",
        "\n",
        "# Fit the model to the imputed data and predict outliers\n",
        "outliers = lof_model.fit_predict(X_imputed)\n",
        "\n",
        "# The 'outliers' array contains labels (-1 for outliers, 1 for inliers)\n",
        "\n",
        "outlier_indices = outliers == -1\n",
        "\n",
        "# Extract the names of the potential outlier players based on the indices\n",
        "outlier_players_names = names.loc[outlier_indices]\n",
        "# Remove duplicate names\n",
        "outlier_players_names = outlier_players_names.drop_duplicates()\n",
        "\n",
        "# Print the results\n",
        "print(f\"Count of Potential Outlier Players (LOF): {len(outlier_players_names)}\")\n",
        "print(\"Names of Potential Outlier Players:\")\n",
        "print(outlier_players_names)"
      ],
      "metadata": {
        "colab": {
          "base_uri": "https://localhost:8080/"
        },
        "id": "gyRDOm6wLFHs",
        "outputId": "114c9ed4-3bd8-4791-ff7b-d1cd33251a63"
      },
      "execution_count": null,
      "outputs": [
        {
          "output_type": "stream",
          "name": "stdout",
          "text": [
            "Count of Potential Outlier Players (LOF): 21\n",
            "Names of Potential Outlier Players:\n",
            "     firstname     lastname\n",
            "94        Drew        Barry\n",
            "186    Michael      Bradley\n",
            "288    Maurice       Carter\n",
            "290        Ron       Carter\n",
            "504       Doug      Edwards\n",
            "652     Travis        Grant\n",
            "700       Jeff  Halliburton\n",
            "718       Skip     Harlicka\n",
            "905        Ken      Johnson\n",
            "920      Alvin        Jones\n",
            "1155  Fernando       Martin\n",
            "1173       Mel      Mccants\n",
            "1319     Barry       Nelson\n",
            "1321       Ron       Nelson\n",
            "1345   Moochie       Norris\n",
            "1400    Andrae    Patterson\n",
            "1472       Bob       Priddy\n",
            "1482       Ray      Ragelis\n",
            "1781     Billy       Thomas\n",
            "1868     David       Vaughn\n",
            "2037       Tom      Workman\n"
          ]
        }
      ]
    },
    {
      "cell_type": "markdown",
      "source": [
        "#Random Forest - Team Season"
      ],
      "metadata": {
        "id": "gctNg3f1hxOB"
      }
    },
    {
      "cell_type": "code",
      "source": [
        "import pandas as pd\n",
        "from sklearn.ensemble import RandomForestRegressor\n",
        "\n",
        "# Load the team data\n",
        "file_path = \"/content/unzipped_data/team_season.txt\"\n",
        "team_data = pd.read_csv(file_path)\n",
        "\n",
        "# Select relevant features for prediction\n",
        "features = ['o_fgm', 'o_fga', 'o_ftm', 'o_fta', 'o_oreb', 'o_dreb', 'o_reb', 'o_asts', 'o_pf', 'o_stl', 'o_to', 'o_blk', 'o_3pm', 'o_3pa', 'o_pts',\n",
        "            'd_fgm', 'd_fga', 'd_ftm', 'd_fta', 'd_oreb', 'd_dreb', 'd_reb', 'd_asts', 'd_pf', 'd_stl', 'd_to', 'd_blk', 'd_3pm', 'd_3pa', 'd_pts']\n",
        "\n",
        "# Create a target variable indicating the number of wins for the season\n",
        "target = 'won'\n",
        "\n",
        "# Prepare the data for prediction\n",
        "X = team_data[features]\n",
        "y = team_data[target]\n",
        "\n",
        "# Create a Random Forest regressor\n",
        "rf_model = RandomForestRegressor(n_estimators=100, random_state=42)\n",
        "\n",
        "# Train the model on the entire dataset\n",
        "rf_model.fit(X, y)\n",
        "\n",
        "# Input the team names for prediction\n",
        "team1_name = \"INJ\"\n",
        "team2_name = \"BOS\"\n",
        "\n",
        "# Extract the statistics for the two teams from the dataset\n",
        "team1_stats = team_data[team_data['team'] == team1_name][features].values\n",
        "team2_stats = team_data[team_data['team'] == team2_name][features].values\n",
        "\n",
        "# Concatenate the statistics for both teams\n",
        "teams_combined = pd.DataFrame(data=pd.concat([pd.DataFrame(team1_stats, columns=features),\n",
        "                                              pd.DataFrame(team2_stats, columns=features)], axis=0))\n",
        "\n",
        "# Predict the number of wins for the combined team statistics\n",
        "predicted_wins = rf_model.predict(teams_combined)\n",
        "\n",
        "# Determine the winning team based on the higher predicted number of wins\n",
        "winning_team = team1_name if predicted_wins[0] > predicted_wins[1] else team2_name\n",
        "\n",
        "# Print the predicted number of wins and the winning team\n",
        "print(f\"Predicted Number of Wins (Random Forest): {team1_name}: {predicted_wins[0]}, {team2_name}: {predicted_wins[1]}\")\n",
        "print(f\"Predicted Winning Team: {winning_team}\")\n",
        "\n",
        "# Calculate the training accuracy (R-squared)\n",
        "training_accuracy = rf_model.score(X, y)\n",
        "\n",
        "# Print the training accuracy\n",
        "print(f\"Training Accuracy (R-squared): {training_accuracy}\")\n",
        "\n",
        "\n"
      ],
      "metadata": {
        "colab": {
          "base_uri": "https://localhost:8080/"
        },
        "id": "ZdvYi5qzMlR6",
        "outputId": "5524d557-ab3b-446a-e054-e41606314ef9"
      },
      "execution_count": null,
      "outputs": [
        {
          "output_type": "stream",
          "name": "stdout",
          "text": [
            "Predicted Number of Wins (Random Forest): INJ: 21.6, BOS: 23.04\n",
            "Predicted Winning Team: BOS\n",
            "Training Accuracy (R-squared): 0.971510113337355\n"
          ]
        }
      ]
    }
  ]
}